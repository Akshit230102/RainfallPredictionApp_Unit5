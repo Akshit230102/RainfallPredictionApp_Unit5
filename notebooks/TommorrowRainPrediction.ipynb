{
  "cells": [
    {
      "cell_type": "markdown",
      "metadata": {
        "id": "8eSpOZfI0Dcu"
      },
      "source": [
        "### Importing libraries"
      ]
    },
    {
      "cell_type": "code",
      "execution_count": 19,
      "metadata": {
        "id": "yGWJ9lhdz-eP"
      },
      "outputs": [],
      "source": [
        "import numpy as np\n",
        "import pandas as pd"
      ]
    },
    {
      "cell_type": "markdown",
      "metadata": {
        "id": "hUDysljI18u0"
      },
      "source": [
        "### Importing Dataset"
      ]
    },
    {
      "cell_type": "code",
      "execution_count": 20,
      "metadata": {
        "id": "KsIMacGj17iT"
      },
      "outputs": [],
      "source": [
        "dataset = pd.read_csv('../datasets/weatherAUS.csv')\n",
        "X = dataset.iloc[:,[2,3,4,7,8,13,15]].values\n",
        "Y = dataset.iloc[:,-1].values"
      ]
    },
    {
      "cell_type": "code",
      "execution_count": 21,
      "metadata": {
        "colab": {
          "base_uri": "https://localhost:8080/"
        },
        "id": "lmk-Nsft31Jr",
        "outputId": "63a57eda-99a9-48b3-d4b0-931c48e54b48"
      },
      "outputs": [
        {
          "name": "stdout",
          "output_type": "stream",
          "text": [
            "[[13.4 22.9 0.6 ... 44.0 71.0 1007.7]\n",
            " [7.4 25.1 0.0 ... 44.0 44.0 1010.6]\n",
            " [12.9 25.7 0.0 ... 46.0 38.0 1007.6]\n",
            " ...\n",
            " [5.4 26.9 0.0 ... 37.0 53.0 1021.0]\n",
            " [7.8 27.0 0.0 ... 28.0 51.0 1019.4]\n",
            " [14.9 nan 0.0 ... nan 62.0 1020.2]]\n"
          ]
        }
      ],
      "source": [
        "print(X)"
      ]
    },
    {
      "cell_type": "code",
      "execution_count": 22,
      "metadata": {
        "colab": {
          "base_uri": "https://localhost:8080/"
        },
        "id": "6WaCq0E033ej",
        "outputId": "97a64815-004c-47e6-b7f1-01be13c670f1"
      },
      "outputs": [
        {
          "name": "stdout",
          "output_type": "stream",
          "text": [
            "['No' 'No' 'No' ... 'No' 'No' nan]\n"
          ]
        }
      ],
      "source": [
        "print(Y)"
      ]
    },
    {
      "cell_type": "code",
      "execution_count": 23,
      "metadata": {
        "id": "YbemIbgA68O-"
      },
      "outputs": [],
      "source": [
        "Y = Y.reshape(-1,1)"
      ]
    },
    {
      "cell_type": "markdown",
      "metadata": {
        "id": "MHIv1iaT4O8A"
      },
      "source": [
        "### Dealing with invalid Data"
      ]
    },
    {
      "cell_type": "code",
      "execution_count": 24,
      "metadata": {
        "id": "E_y92J5-345v"
      },
      "outputs": [],
      "source": [
        "from sklearn.impute import SimpleImputer\n",
        "imputer = SimpleImputer(missing_values=np.nan,strategy='most_frequent')\n",
        "X = imputer.fit_transform(X)\n",
        "Y = imputer.fit_transform(Y)"
      ]
    },
    {
      "cell_type": "code",
      "execution_count": 25,
      "metadata": {
        "colab": {
          "base_uri": "https://localhost:8080/"
        },
        "id": "XPwVYJ2g5CG_",
        "outputId": "7c808a12-d6c1-4973-8c02-18f9bf9e85cd"
      },
      "outputs": [
        {
          "name": "stdout",
          "output_type": "stream",
          "text": [
            "[[13.4 22.9 0.6 ... 44.0 71.0 1007.7]\n",
            " [7.4 25.1 0.0 ... 44.0 44.0 1010.6]\n",
            " [12.9 25.7 0.0 ... 46.0 38.0 1007.6]\n",
            " ...\n",
            " [5.4 26.9 0.0 ... 37.0 53.0 1021.0]\n",
            " [7.8 27.0 0.0 ... 28.0 51.0 1019.4]\n",
            " [14.9 20.0 0.0 ... 35.0 62.0 1020.2]]\n"
          ]
        }
      ],
      "source": [
        "print(X)"
      ]
    },
    {
      "cell_type": "code",
      "execution_count": 26,
      "metadata": {
        "colab": {
          "base_uri": "https://localhost:8080/"
        },
        "id": "n5m3o-8x6ZWZ",
        "outputId": "5e27755e-7882-4f14-8df2-36503bfac35f"
      },
      "outputs": [
        {
          "name": "stdout",
          "output_type": "stream",
          "text": [
            "[['No']\n",
            " ['No']\n",
            " ['No']\n",
            " ...\n",
            " ['No']\n",
            " ['No']\n",
            " ['No']]\n"
          ]
        }
      ],
      "source": [
        "print(Y)"
      ]
    },
    {
      "cell_type": "markdown",
      "metadata": {
        "id": "r2_RFG2N6zXN"
      },
      "source": [
        "### Encoding Dataset"
      ]
    },
    {
      "cell_type": "code",
      "execution_count": 27,
      "metadata": {
        "id": "2N_ESqUX6wZC"
      },
      "outputs": [],
      "source": [
        "from sklearn.preprocessing import LabelEncoder\n",
        "le1 = LabelEncoder()\n",
        "X[:,3] = le1.fit_transform(X[:,3])\n",
        "le2 = LabelEncoder()\n",
        "Y[:,-1] = le2.fit_transform(Y[:,-1])"
      ]
    },
    {
      "cell_type": "code",
      "execution_count": 28,
      "metadata": {
        "colab": {
          "base_uri": "https://localhost:8080/"
        },
        "id": "Oj8Oj8iV8EIT",
        "outputId": "1fb5d1d1-3a41-4f46-b485-23728a4924d5"
      },
      "outputs": [
        {
          "name": "stdout",
          "output_type": "stream",
          "text": [
            "[[13.4 22.9 0.6 ... 44.0 71.0 1007.7]\n",
            " [7.4 25.1 0.0 ... 44.0 44.0 1010.6]\n",
            " [12.9 25.7 0.0 ... 46.0 38.0 1007.6]\n",
            " ...\n",
            " [5.4 26.9 0.0 ... 37.0 53.0 1021.0]\n",
            " [7.8 27.0 0.0 ... 28.0 51.0 1019.4]\n",
            " [14.9 20.0 0.0 ... 35.0 62.0 1020.2]]\n"
          ]
        }
      ],
      "source": [
        "print(X)"
      ]
    },
    {
      "cell_type": "code",
      "execution_count": 29,
      "metadata": {
        "colab": {
          "base_uri": "https://localhost:8080/"
        },
        "id": "Nxi3qYsa9nyg",
        "outputId": "a9960ad8-5c80-4df4-85c6-97fed5acb909"
      },
      "outputs": [
        {
          "name": "stdout",
          "output_type": "stream",
          "text": [
            "[[0]\n",
            " [0]\n",
            " [0]\n",
            " ...\n",
            " [0]\n",
            " [0]\n",
            " [0]]\n"
          ]
        }
      ],
      "source": [
        "print(Y)"
      ]
    },
    {
      "cell_type": "code",
      "execution_count": 30,
      "metadata": {
        "colab": {
          "base_uri": "https://localhost:8080/"
        },
        "id": "NUml4zNfEVcQ",
        "outputId": "ae265bb7-9e56-486f-fb55-29b489243b0b"
      },
      "outputs": [
        {
          "name": "stdout",
          "output_type": "stream",
          "text": [
            "[[0.]\n",
            " [0.]\n",
            " [0.]\n",
            " ...\n",
            " [0.]\n",
            " [0.]\n",
            " [0.]]\n"
          ]
        }
      ],
      "source": [
        "Y = np.array(Y,dtype=float)\n",
        "print(Y)"
      ]
    },
    {
      "cell_type": "markdown",
      "metadata": {
        "id": "aQDbMGGl-QST"
      },
      "source": [
        "### Splitting Dataset into Training set and Test set"
      ]
    },
    {
      "cell_type": "code",
      "execution_count": 31,
      "metadata": {
        "id": "xpVKkTfM-KsN"
      },
      "outputs": [],
      "source": [
        "from sklearn.model_selection import train_test_split\n",
        "X_train,X_test,Y_train,Y_test = train_test_split(X,Y,test_size=0.2,random_state=0)"
      ]
    },
    {
      "cell_type": "code",
      "execution_count": 32,
      "metadata": {
        "colab": {
          "base_uri": "https://localhost:8080/"
        },
        "id": "eA7K-Ygv_Z5b",
        "outputId": "b79f6299-e0f7-4c8c-c3fa-781129b30436"
      },
      "outputs": [
        {
          "name": "stdout",
          "output_type": "stream",
          "text": [
            "[[18.8 23.7 0.2 ... 52.0 74.0 1016.6]\n",
            " [9.3 24.0 0.2 ... 48.0 74.0 1018.3]\n",
            " [10.9 22.2 1.4 ... 26.0 85.0 1017.6]\n",
            " ...\n",
            " [17.0 29.8 0.0 ... 22.0 77.0 1019.6]\n",
            " [11.9 22.0 3.8 ... 35.0 55.0 1020.0]\n",
            " [12.0 16.7 0.8 ... 50.0 59.0 1032.0]]\n"
          ]
        }
      ],
      "source": [
        "print(X_train)"
      ]
    },
    {
      "cell_type": "code",
      "execution_count": 33,
      "metadata": {
        "colab": {
          "base_uri": "https://localhost:8080/"
        },
        "id": "d2lROgxR_Z-e",
        "outputId": "4e940073-07de-4645-ee06-2f3c83c08586"
      },
      "outputs": [
        {
          "name": "stdout",
          "output_type": "stream",
          "text": [
            "[[1.]\n",
            " [0.]\n",
            " [0.]\n",
            " ...\n",
            " [0.]\n",
            " [0.]\n",
            " [0.]]\n"
          ]
        }
      ],
      "source": [
        "print(Y_train)"
      ]
    },
    {
      "cell_type": "markdown",
      "metadata": {
        "id": "9wXaahXT-79-"
      },
      "source": [
        "### Training Model"
      ]
    },
    {
      "cell_type": "code",
      "execution_count": 34,
      "metadata": {
        "colab": {
          "base_uri": "https://localhost:8080/"
        },
        "id": "dgXgeZ43-uih",
        "outputId": "ef91c184-d7ae-4cb6-f975-b1fde06b17a8"
      },
      "outputs": [
        {
          "name": "stderr",
          "output_type": "stream",
          "text": [
            "/Library/Frameworks/Python.framework/Versions/3.11/lib/python3.11/site-packages/sklearn/utils/validation.py:1183: DataConversionWarning: A column-vector y was passed when a 1d array was expected. Please change the shape of y to (n_samples, ), for example using ravel().\n",
            "  y = column_or_1d(y, warn=True)\n"
          ]
        },
        {
          "name": "stdout",
          "output_type": "stream",
          "text": [
            "Logistic Regression's Accuracy is:  0.8120445483294376\n",
            "\n",
            "Confusion Matrix: \n",
            "[[21799   927]\n",
            " [ 4541  1825]]\n",
            "\n",
            "              precision    recall  f1-score   support\n",
            "\n",
            "         0.0       0.83      0.96      0.89     22726\n",
            "         1.0       0.66      0.29      0.40      6366\n",
            "\n",
            "    accuracy                           0.81     29092\n",
            "   macro avg       0.75      0.62      0.64     29092\n",
            "weighted avg       0.79      0.81      0.78     29092\n",
            "\n"
          ]
        },
        {
          "name": "stderr",
          "output_type": "stream",
          "text": [
            "/Library/Frameworks/Python.framework/Versions/3.11/lib/python3.11/site-packages/sklearn/utils/validation.py:1183: DataConversionWarning: A column-vector y was passed when a 1d array was expected. Please change the shape of y to (n_samples, ), for example using ravel().\n",
            "  y = column_or_1d(y, warn=True)\n",
            "/Library/Frameworks/Python.framework/Versions/3.11/lib/python3.11/site-packages/sklearn/utils/validation.py:1183: DataConversionWarning: A column-vector y was passed when a 1d array was expected. Please change the shape of y to (n_samples, ), for example using ravel().\n",
            "  y = column_or_1d(y, warn=True)\n",
            "/Library/Frameworks/Python.framework/Versions/3.11/lib/python3.11/site-packages/sklearn/utils/validation.py:1183: DataConversionWarning: A column-vector y was passed when a 1d array was expected. Please change the shape of y to (n_samples, ), for example using ravel().\n",
            "  y = column_or_1d(y, warn=True)\n",
            "/Library/Frameworks/Python.framework/Versions/3.11/lib/python3.11/site-packages/sklearn/utils/validation.py:1183: DataConversionWarning: A column-vector y was passed when a 1d array was expected. Please change the shape of y to (n_samples, ), for example using ravel().\n",
            "  y = column_or_1d(y, warn=True)\n",
            "/Library/Frameworks/Python.framework/Versions/3.11/lib/python3.11/site-packages/sklearn/utils/validation.py:1183: DataConversionWarning: A column-vector y was passed when a 1d array was expected. Please change the shape of y to (n_samples, ), for example using ravel().\n",
            "  y = column_or_1d(y, warn=True)\n"
          ]
        }
      ],
      "source": [
        "from sklearn.linear_model import LogisticRegression\n",
        "from sklearn import metrics\n",
        "from sklearn.metrics import classification_report\n",
        "from sklearn.model_selection import cross_val_score\n",
        "\n",
        "LogReg = LogisticRegression(random_state=2)\n",
        "\n",
        "LogReg.fit(X_train,Y_train)\n",
        "\n",
        "predicted_values = LogReg.predict(X_test)\n",
        "\n",
        "x = metrics.accuracy_score(Y_test, predicted_values)\n",
        "\n",
        "print(\"Logistic Regression's Accuracy is: \", x)\n",
        "\n",
        "print()\n",
        "print(\"Confusion Matrix: \")\n",
        "print(metrics.confusion_matrix(Y_test,predicted_values))\n",
        "print()\n",
        "ax=classification_report(Y_test,predicted_values)\n",
        "print(ax)\n",
        "\n",
        "# Cross validation score (Logistic Regression)\n",
        "score = cross_val_score(LogReg,X,Y,cv=5)\n",
        "\n",
        "score\n",
        "\n",
        "\"\"\"saving trained Logistic Regression Model\"\"\"\n",
        "\n",
        "import pickle\n",
        "# Dump the trained Naive Bayes classifier with Pickle\n",
        "LR_pkl_filename = '../models/LogisticRegression.pkl'\n",
        "# Open the file to save as pkl file\n",
        "LR_Model_pkl = open(LR_pkl_filename, 'wb')\n",
        "pickle.dump(LogReg, LR_Model_pkl)\n",
        "# Close the pickle instances\n",
        "LR_Model_pkl.close()"
      ]
    },
    {
      "cell_type": "code",
      "execution_count": 35,
      "metadata": {
        "colab": {
          "base_uri": "https://localhost:8080/"
        },
        "id": "xt5Uti-IJsFk",
        "outputId": "dc8e71fa-fba1-4cf7-d8ab-8e3eb355aeab"
      },
      "outputs": [
        {
          "name": "stdout",
          "output_type": "stream",
          "text": [
            "[[1.]\n",
            " [1.]\n",
            " [0.]\n",
            " ...\n",
            " [1.]\n",
            " [0.]\n",
            " [0.]]\n"
          ]
        }
      ],
      "source": [
        "print(Y_test)"
      ]
    },
    {
      "cell_type": "code",
      "execution_count": 36,
      "metadata": {},
      "outputs": [
        {
          "name": "stdout",
          "output_type": "stream",
          "text": [
            "[13.4 22.9 0.6 13 44.0 71.0 1007.7]\n"
          ]
        }
      ],
      "source": [
        "print(X[0])"
      ]
    },
    {
      "cell_type": "code",
      "execution_count": 38,
      "metadata": {},
      "outputs": [
        {
          "name": "stdout",
          "output_type": "stream",
          "text": [
            "[15.9 18.6 15.6 13 61.0 76.0 994.3] [1.]\n"
          ]
        }
      ],
      "source": [
        "print(X[12],Y[12])"
      ]
    }
  ],
  "metadata": {
    "colab": {
      "name": "Untitled4.ipynb",
      "provenance": []
    },
    "kernelspec": {
      "display_name": "Python 3",
      "name": "python3"
    },
    "language_info": {
      "codemirror_mode": {
        "name": "ipython",
        "version": 3
      },
      "file_extension": ".py",
      "mimetype": "text/x-python",
      "name": "python",
      "nbconvert_exporter": "python",
      "pygments_lexer": "ipython3",
      "version": "3.11.4"
    }
  },
  "nbformat": 4,
  "nbformat_minor": 0
}
